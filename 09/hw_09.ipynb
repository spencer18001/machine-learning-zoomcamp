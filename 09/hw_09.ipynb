{
  "cells": [
    {
      "cell_type": "markdown",
      "metadata": {
        "id": "view-in-github",
        "colab_type": "text"
      },
      "source": [
        "<a href=\"https://colab.research.google.com/github/spencer18001/machine-learning-zoomcamp/blob/main/09/hw_09.ipynb\" target=\"_parent\"><img src=\"https://colab.research.google.com/assets/colab-badge.svg\" alt=\"Open In Colab\"/></a>"
      ]
    },
    {
      "cell_type": "code",
      "source": [
        "%%capture\n",
        "!pip install tensorflow=2.17.1 pillow\n",
        "!wget https://github.com/alexeygrigorev/large-datasets/releases/download/hairstyle/model_2024_hairstyle.keras"
      ],
      "metadata": {
        "id": "McqDvY4I5Wcu"
      },
      "id": "McqDvY4I5Wcu",
      "execution_count": 1,
      "outputs": []
    },
    {
      "cell_type": "code",
      "source": [
        "import numpy as np\n",
        "from io import BytesIO\n",
        "from urllib import request\n",
        "from PIL import Image\n",
        "import requests\n",
        "import tensorflow as tf\n",
        "from tensorflow import keras"
      ],
      "metadata": {
        "id": "ab1oTjP86yDc"
      },
      "id": "ab1oTjP86yDc",
      "execution_count": 2,
      "outputs": []
    },
    {
      "cell_type": "code",
      "source": [
        "model = keras.models.load_model(\"model_2024_hairstyle.keras\")\n",
        "\n",
        "converter = tf.lite.TFLiteConverter.from_keras_model(model)\n",
        "tflite_model = converter.convert()\n",
        "\n",
        "with open(\"model_2024_hairstyle.tflite\", \"wb\") as f:\n",
        "    f.write(tflite_model)"
      ],
      "metadata": {
        "colab": {
          "base_uri": "https://localhost:8080/"
        },
        "id": "oAPKvkyR-qQy",
        "outputId": "5edf7c39-bec3-4fd5-cd3b-3dce71a69666"
      },
      "id": "oAPKvkyR-qQy",
      "execution_count": 3,
      "outputs": [
        {
          "output_type": "stream",
          "name": "stdout",
          "text": [
            "Saved artifact at '/tmp/tmpupr4r2vs'. The following endpoints are available:\n",
            "\n",
            "* Endpoint 'serve'\n",
            "  args_0 (POSITIONAL_ONLY): TensorSpec(shape=(None, 200, 200, 3), dtype=tf.float32, name='input_layer')\n",
            "Output Type:\n",
            "  TensorSpec(shape=(None, 1), dtype=tf.float32, name=None)\n",
            "Captures:\n",
            "  137818503311984: TensorSpec(shape=(), dtype=tf.resource, name=None)\n",
            "  137818503267424: TensorSpec(shape=(), dtype=tf.resource, name=None)\n",
            "  137818503275168: TensorSpec(shape=(), dtype=tf.resource, name=None)\n",
            "  137818503310224: TensorSpec(shape=(), dtype=tf.resource, name=None)\n",
            "  137818503315152: TensorSpec(shape=(), dtype=tf.resource, name=None)\n",
            "  137818503312688: TensorSpec(shape=(), dtype=tf.resource, name=None)\n"
          ]
        }
      ]
    },
    {
      "cell_type": "code",
      "source": [
        "!ls -lh model_2024_hairstyle.tflite # Q1"
      ],
      "metadata": {
        "colab": {
          "base_uri": "https://localhost:8080/"
        },
        "id": "f0bXhkbd_gZ9",
        "outputId": "8597b365-62ae-4943-d1bb-13cad97e6734"
      },
      "id": "f0bXhkbd_gZ9",
      "execution_count": 4,
      "outputs": [
        {
          "output_type": "stream",
          "name": "stdout",
          "text": [
            "-rw-r--r-- 1 root root 77M Dec  7 18:15 model_2024_hairstyle.tflite\n"
          ]
        }
      ]
    },
    {
      "cell_type": "code",
      "source": [
        "interpreter = tf.lite.Interpreter(model_path=\"model_2024_hairstyle.tflite\")\n",
        "interpreter.allocate_tensors()\n",
        "\n",
        "input_index = interpreter.get_input_details()[0]['index']\n",
        "output_index = interpreter.get_output_details()[0]['index']\n",
        "output_index # Q2"
      ],
      "metadata": {
        "colab": {
          "base_uri": "https://localhost:8080/"
        },
        "id": "-HeWM89oAIbR",
        "outputId": "e68fbd56-e8d8-49da-8835-6974928771f6"
      },
      "id": "-HeWM89oAIbR",
      "execution_count": 5,
      "outputs": [
        {
          "output_type": "execute_result",
          "data": {
            "text/plain": [
              "13"
            ]
          },
          "metadata": {},
          "execution_count": 5
        }
      ]
    },
    {
      "cell_type": "code",
      "source": [
        "def download_image(url):\n",
        "    with request.urlopen(url) as resp:\n",
        "        buffer = resp.read()\n",
        "    stream = BytesIO(buffer)\n",
        "    img = Image.open(stream)\n",
        "    return img\n",
        "\n",
        "def prepare_image(img, target_size):\n",
        "    if img.mode != \"RGB\":\n",
        "        img = img.convert(\"RGB\")\n",
        "    img = img.resize(target_size, Image.NEAREST)\n",
        "    return img"
      ],
      "metadata": {
        "id": "rAfKc9TwAPnP"
      },
      "id": "rAfKc9TwAPnP",
      "execution_count": 6,
      "outputs": []
    },
    {
      "cell_type": "code",
      "source": [
        "url = \"https://habrastorage.org/webt/yf/_d/ok/yf_dokzqy3vcritme8ggnzqlvwa.jpeg\"\n",
        "img = download_image(url)\n",
        "img = prepare_image(img, target_size=(200, 200))"
      ],
      "metadata": {
        "id": "u-JSwPRj_jWl"
      },
      "id": "u-JSwPRj_jWl",
      "execution_count": 7,
      "outputs": []
    },
    {
      "cell_type": "code",
      "source": [
        "img_array = np.array(img, dtype=\"float32\") / 255.0\n",
        "img_array[0, 0, 0] # Q3"
      ],
      "metadata": {
        "colab": {
          "base_uri": "https://localhost:8080/"
        },
        "id": "poXxxfn1BzNt",
        "outputId": "8b5cd0a9-b92e-424b-bf3d-23755c74f947"
      },
      "id": "poXxxfn1BzNt",
      "execution_count": 8,
      "outputs": [
        {
          "output_type": "execute_result",
          "data": {
            "text/plain": [
              "0.23921569"
            ]
          },
          "metadata": {},
          "execution_count": 8
        }
      ]
    },
    {
      "cell_type": "code",
      "source": [
        "interpreter.set_tensor(input_index, [img_array])\n",
        "interpreter.invoke()\n",
        "preds = interpreter.get_tensor(output_index)\n",
        "float(preds[0, 0]) # Q4"
      ],
      "metadata": {
        "colab": {
          "base_uri": "https://localhost:8080/"
        },
        "id": "LqHJtFhgDCKz",
        "outputId": "1d95129a-7bc8-4af3-9053-a9898cb837d7"
      },
      "id": "LqHJtFhgDCKz",
      "execution_count": 12,
      "outputs": [
        {
          "output_type": "execute_result",
          "data": {
            "text/plain": [
              "0.8937740921974182"
            ]
          },
          "metadata": {},
          "execution_count": 12
        }
      ]
    },
    {
      "cell_type": "markdown",
      "metadata": {
        "id": "aRqJKz9Nmgzb"
      },
      "source": [
        "***This cell is running in the GitHub Codespace environment.***\n",
        "\n",
        "```shell\n",
        "docker pull agrigorev/model-2024-hairstyle:v3\n",
        "docker images agrigorev/model-2024-hairstyle:v3 --format \"{{.Size}}\"\n",
        "```\n",
        "\n",
        "output:\n",
        "```shell\n",
        "782MB # Q5\n",
        "```"
      ],
      "id": "aRqJKz9Nmgzb"
    },
    {
      "cell_type": "markdown",
      "source": [
        "***This cell is running in the GitHub Codespace environment.***\n",
        "\n",
        "```shell\n",
        "docker build -t hairstyle-lambda .\n",
        "docker run -it --rm -p 8080:8080 hairstyle-lambda\n",
        "```"
      ],
      "metadata": {
        "id": "WnBrHG9V6EUR"
      },
      "id": "WnBrHG9V6EUR"
    },
    {
      "cell_type": "code",
      "source": [
        "# this url is copied from GitHub Codespace's session\n",
        "url = \"https://psychic-goldfish-x5994xpgpgw5hxg5-8080.app.github.dev/\"+\"2015-03-31/functions/function/invocations\"\n",
        "data = {\"url\": \"https://habrastorage.org/webt/yf/_d/ok/yf_dokzqy3vcritme8ggnzqlvwa.jpeg\"}\n",
        "requests.post(url, json=data).json() # Q6"
      ],
      "metadata": {
        "id": "7f7fS1Pl6I_L",
        "outputId": "5cb9e8a2-0ac2-4495-ddd4-9068acd22965",
        "colab": {
          "base_uri": "https://localhost:8080/"
        }
      },
      "execution_count": 10,
      "outputs": [
        {
          "output_type": "execute_result",
          "data": {
            "text/plain": [
              "0.42985352873802185"
            ]
          },
          "metadata": {},
          "execution_count": 10
        }
      ],
      "id": "7f7fS1Pl6I_L"
    }
  ],
  "metadata": {
    "colab": {
      "provenance": [],
      "include_colab_link": true
    },
    "kernelspec": {
      "display_name": "Python 3.7.0 64-bit",
      "language": "python",
      "name": "python3"
    },
    "language_info": {
      "codemirror_mode": {
        "name": "ipython",
        "version": 3
      },
      "file_extension": ".py",
      "mimetype": "text/x-python",
      "name": "python",
      "nbconvert_exporter": "python",
      "pygments_lexer": "ipython3",
      "version": "3.7.0"
    },
    "vscode": {
      "interpreter": {
        "hash": "e774977668b7c0ae8309835a5187aa7fbf7669e7d0bb59755bc63e573643edcd"
      }
    }
  },
  "nbformat": 4,
  "nbformat_minor": 5
}