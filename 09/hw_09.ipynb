{
  "cells": [
    {
      "cell_type": "markdown",
      "metadata": {
        "id": "view-in-github",
        "colab_type": "text"
      },
      "source": [
        "<a href=\"https://colab.research.google.com/github/spencer18001/machine-learning-zoomcamp/blob/main/09/hw_09.ipynb\" target=\"_parent\"><img src=\"https://colab.research.google.com/assets/colab-badge.svg\" alt=\"Open In Colab\"/></a>"
      ]
    },
    {
      "cell_type": "code",
      "source": [
        "%%capture\n",
        "!pip install tensorflow=2.17.1 pillow\n",
        "!wget https://github.com/alexeygrigorev/large-datasets/releases/download/hairstyle/model_2024_hairstyle.keras"
      ],
      "metadata": {
        "id": "McqDvY4I5Wcu"
      },
      "id": "McqDvY4I5Wcu",
      "execution_count": 9,
      "outputs": []
    },
    {
      "cell_type": "code",
      "source": [
        "import numpy as np\n",
        "from io import BytesIO\n",
        "from urllib import request\n",
        "from PIL import Image\n",
        "import tensorflow as tf\n",
        "from tensorflow import keras"
      ],
      "metadata": {
        "id": "ab1oTjP86yDc"
      },
      "id": "ab1oTjP86yDc",
      "execution_count": 13,
      "outputs": []
    },
    {
      "cell_type": "code",
      "source": [
        "model = keras.models.load_model(\"model_2024_hairstyle.keras\")\n",
        "\n",
        "converter = tf.lite.TFLiteConverter.from_keras_model(model)\n",
        "tflite_model = converter.convert()\n",
        "\n",
        "with open(\"model_2024_hairstyle.tflite\", \"wb\") as f:\n",
        "    f.write(tflite_model)"
      ],
      "metadata": {
        "id": "oAPKvkyR-qQy",
        "outputId": "e8d2b314-63e3-457a-fbdc-1d5dbd173525",
        "colab": {
          "base_uri": "https://localhost:8080/"
        }
      },
      "id": "oAPKvkyR-qQy",
      "execution_count": 3,
      "outputs": [
        {
          "output_type": "stream",
          "name": "stdout",
          "text": [
            "Saved artifact at '/tmp/tmpyrlqwnja'. The following endpoints are available:\n",
            "\n",
            "* Endpoint 'serve'\n",
            "  args_0 (POSITIONAL_ONLY): TensorSpec(shape=(None, 200, 200, 3), dtype=tf.float32, name='input_layer')\n",
            "Output Type:\n",
            "  TensorSpec(shape=(None, 1), dtype=tf.float32, name=None)\n",
            "Captures:\n",
            "  139014824649904: TensorSpec(shape=(), dtype=tf.resource, name=None)\n",
            "  139014824654832: TensorSpec(shape=(), dtype=tf.resource, name=None)\n",
            "  139014823276816: TensorSpec(shape=(), dtype=tf.resource, name=None)\n",
            "  139014823278224: TensorSpec(shape=(), dtype=tf.resource, name=None)\n",
            "  139014824649552: TensorSpec(shape=(), dtype=tf.resource, name=None)\n",
            "  139014824652896: TensorSpec(shape=(), dtype=tf.resource, name=None)\n"
          ]
        }
      ]
    },
    {
      "cell_type": "code",
      "source": [
        "!ls -lh model_2024_hairstyle.tflite # Q1"
      ],
      "metadata": {
        "id": "f0bXhkbd_gZ9",
        "outputId": "53f647aa-da98-4d9e-efde-530a15039131",
        "colab": {
          "base_uri": "https://localhost:8080/"
        }
      },
      "id": "f0bXhkbd_gZ9",
      "execution_count": 4,
      "outputs": [
        {
          "output_type": "stream",
          "name": "stdout",
          "text": [
            "-rw-r--r-- 1 root root 77M Dec  7 16:40 model_2024_hairstyle.tflite\n"
          ]
        }
      ]
    },
    {
      "cell_type": "code",
      "source": [
        "interpreter = tf.lite.Interpreter(model_path=\"model_2024_hairstyle.tflite\")\n",
        "interpreter.allocate_tensors()\n",
        "\n",
        "input_index = interpreter.get_input_details()[0]['index']\n",
        "output_index = interpreter.get_output_details()[0]['index']\n",
        "output_index # Q2"
      ],
      "metadata": {
        "id": "-HeWM89oAIbR",
        "outputId": "13d9c279-c7e0-48bd-fd9a-234f55492451",
        "colab": {
          "base_uri": "https://localhost:8080/"
        }
      },
      "id": "-HeWM89oAIbR",
      "execution_count": 8,
      "outputs": [
        {
          "output_type": "execute_result",
          "data": {
            "text/plain": [
              "13"
            ]
          },
          "metadata": {},
          "execution_count": 8
        }
      ]
    },
    {
      "cell_type": "code",
      "source": [
        "def download_image(url):\n",
        "    with request.urlopen(url) as resp:\n",
        "        buffer = resp.read()\n",
        "    stream = BytesIO(buffer)\n",
        "    img = Image.open(stream)\n",
        "    return img\n",
        "\n",
        "def prepare_image(img, target_size):\n",
        "    if img.mode != 'RGB':\n",
        "        img = img.convert('RGB')\n",
        "    img = img.resize(target_size, Image.NEAREST)\n",
        "    return img"
      ],
      "metadata": {
        "id": "rAfKc9TwAPnP"
      },
      "id": "rAfKc9TwAPnP",
      "execution_count": 11,
      "outputs": []
    },
    {
      "cell_type": "code",
      "source": [
        "url = \"https://habrastorage.org/webt/yf/_d/ok/yf_dokzqy3vcritme8ggnzqlvwa.jpeg\"\n",
        "img = download_image(url)\n",
        "img = prepare_image(img, target_size=(200, 200))"
      ],
      "metadata": {
        "id": "u-JSwPRj_jWl"
      },
      "id": "u-JSwPRj_jWl",
      "execution_count": 12,
      "outputs": []
    },
    {
      "cell_type": "code",
      "source": [
        "img_array = np.array(img, dtype='float32') / 255.0\n",
        "img_array[0, 0, 0] # Q3"
      ],
      "metadata": {
        "id": "poXxxfn1BzNt",
        "outputId": "9335bbb3-044d-492b-fc3b-4d12b6812f8f",
        "colab": {
          "base_uri": "https://localhost:8080/"
        }
      },
      "id": "poXxxfn1BzNt",
      "execution_count": 18,
      "outputs": [
        {
          "output_type": "execute_result",
          "data": {
            "text/plain": [
              "0.23921569"
            ]
          },
          "metadata": {},
          "execution_count": 18
        }
      ]
    },
    {
      "cell_type": "code",
      "source": [
        "interpreter.set_tensor(input_index, [img_array])\n",
        "interpreter.invoke()\n",
        "preds = interpreter.get_tensor(output_index)\n",
        "preds # Q4"
      ],
      "metadata": {
        "id": "LqHJtFhgDCKz",
        "outputId": "c221af92-619a-4d81-8b6e-a91c21f9d41c",
        "colab": {
          "base_uri": "https://localhost:8080/"
        }
      },
      "id": "LqHJtFhgDCKz",
      "execution_count": 19,
      "outputs": [
        {
          "output_type": "execute_result",
          "data": {
            "text/plain": [
              "array([[0.8937741]], dtype=float32)"
            ]
          },
          "metadata": {},
          "execution_count": 19
        }
      ]
    },
    {
      "cell_type": "code",
      "source": [],
      "metadata": {
        "id": "YgOQsFLmEsvO"
      },
      "id": "YgOQsFLmEsvO",
      "execution_count": null,
      "outputs": []
    }
  ],
  "metadata": {
    "colab": {
      "provenance": [],
      "toc_visible": true,
      "include_colab_link": true
    },
    "kernelspec": {
      "display_name": "Python 3.7.0 64-bit",
      "language": "python",
      "name": "python3"
    },
    "language_info": {
      "codemirror_mode": {
        "name": "ipython",
        "version": 3
      },
      "file_extension": ".py",
      "mimetype": "text/x-python",
      "name": "python",
      "nbconvert_exporter": "python",
      "pygments_lexer": "ipython3",
      "version": "3.7.0"
    },
    "vscode": {
      "interpreter": {
        "hash": "e774977668b7c0ae8309835a5187aa7fbf7669e7d0bb59755bc63e573643edcd"
      }
    }
  },
  "nbformat": 4,
  "nbformat_minor": 5
}