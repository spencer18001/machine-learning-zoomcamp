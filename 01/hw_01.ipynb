{
 "cells": [
  {
   "cell_type": "markdown",
   "id": "7c88c831",
   "metadata": {},
   "source": [
    "## DBSCAN sklearn demo"
   ]
  },
  {
   "cell_type": "code",
   "execution_count": null,
   "id": "cb320bcb",
   "metadata": {},
   "outputs": [],
   "source": [
    "import pandas as pd\n",
    "import numpy as np\n",
    "\n",
    "import seaborn as sns\n",
    "import matplotlib.pyplot as plt\n",
    "\n",
    "from sklearn.cluster import DBSCAN\n",
    "from sklearn.cluster import KMeans\n",
    "from sklearn.metrics import silhouette_score\n",
    "from sklearn.neighbors import NearestNeighbors\n",
    "\n",
    "from sklearn.datasets import make_moons\n",
    "\n",
    "from kneed import KneeLocator\n",
    "\n",
    "sns.set_theme()\n",
    "plt.rcParams[\"image.cmap\"] = \"tab10\""
   ]
  },
  {
   "attachments": {},
   "cell_type": "markdown",
   "id": "3a79044b",
   "metadata": {},
   "source": [
    "### Create the  dataset"
   ]
  },
  {
   "cell_type": "code",
   "execution_count": null,
   "id": "b6e756bf",
   "metadata": {
    "scrolled": false
   },
   "outputs": [],
   "source": [
    "# Create moon dataset\n",
    "X, y = make_moons(\n",
    "    n_samples=2000,  \n",
    "    shuffle=True, \n",
    "    noise=0.03, \n",
    "    random_state=12\n",
    ")\n",
    "\n",
    "# Plot moon dataset\n",
    "plt.figure()\n",
    "plt.scatter(X[:, 0], X[:, 1], s=4)\n",
    "plt.title('Dataset')\n",
    "plt.show()"
   ]
  },
  {
   "cell_type": "code",
   "execution_count": null,
   "id": "028efbd8",
   "metadata": {},
   "outputs": [],
   "source": [
    "# Cluster moon with k-means\n",
    "kmeans = KMeans(n_clusters=2, random_state=0, n_init='auto')\n",
    "kmeans.fit(X)\n",
    "\n",
    "# Plot moon dataset coloured based on kmeans clustering\n",
    "plt.figure()\n",
    "plt.scatter(X[:, 0], X[:, 1], c=kmeans.labels_, s=4)\n",
    "plt.scatter(kmeans.cluster_centers_[:, 0], kmeans.cluster_centers_[:, 1], s=4, c='red')\n",
    "plt.title('Clustered dataset - K means')\n",
    "plt.show()"
   ]
  },
  {
   "attachments": {},
   "cell_type": "markdown",
   "id": "7dfe0c0e",
   "metadata": {},
   "source": [
    "## Cluster with raw DBSCAN"
   ]
  },
  {
   "cell_type": "code",
   "execution_count": null,
   "id": "6a6e7d05",
   "metadata": {},
   "outputs": [],
   "source": [
    "# Cluster with raw dbscan\n",
    "dbscan = DBSCAN()\n",
    "_ = dbscan.fit(X)\n",
    "\n",
    "# Plot clustering results\n",
    "plt.figure()\n",
    "plt.scatter(X[:, 0], X[:, 1], c=dbscan.labels_, s=4)\n",
    "plt.title('Clustered dataset - DBSCAN')\n",
    "plt.show()"
   ]
  },
  {
   "attachments": {},
   "cell_type": "markdown",
   "id": "9d3e7a3c",
   "metadata": {},
   "source": [
    "### Tunning DBSCAN parameters"
   ]
  },
  {
   "cell_type": "code",
   "execution_count": null,
   "id": "29466d07",
   "metadata": {},
   "outputs": [],
   "source": [
    "# Identify MinPts\n",
    "min_pts = X.shape[1] * 2\n",
    "\n",
    "# Find distances to min_pts'th neighbor\n",
    "nbrs = NearestNeighbors().fit(X)\n",
    "distances, _ = nbrs.kneighbors(X, n_neighbors=min_pts)\n",
    "distances"
   ]
  },
  {
   "cell_type": "code",
   "execution_count": null,
   "id": "1e8101ff",
   "metadata": {},
   "outputs": [],
   "source": [
    "# Sort the distances to the min_pts'th neighbor\n",
    "sort_dist = np.sort(distances[:,-1])\n",
    "\n",
    "# Plot and search for a knee\n",
    "plt.plot(range(sort_dist.shape[0]), sort_dist)\n",
    "plt.ylabel('distance to {}-rd neighbor'.format(min_pts-1))\n",
    "plt.show()"
   ]
  },
  {
   "cell_type": "code",
   "execution_count": null,
   "id": "4ca8f254",
   "metadata": {},
   "outputs": [],
   "source": [
    "kneedle = KneeLocator(\n",
    "    range(sort_dist.shape[0]), \n",
    "    sort_dist, \n",
    "    S=1.0, \n",
    "    curve=\"convex\", \n",
    "    direction=\"increasing\"\n",
    ")\n",
    "kneedle.plot_knee()"
   ]
  },
  {
   "cell_type": "code",
   "execution_count": null,
   "id": "e83f94c9",
   "metadata": {},
   "outputs": [],
   "source": [
    "# Cluster again\n",
    "dbscan_tun = DBSCAN(eps=0.038, min_samples=4)\n",
    "_ = dbscan_tun.fit(X)\n",
    "\n",
    "plt.figure()\n",
    "plt.scatter(X[:, 0], X[:, 1], c=dbscan_tun.labels_, s=4)\n",
    "plt.title('Clustered dataset - DBSCAN after parameter tunning')\n",
    "plt.show()"
   ]
  },
  {
   "cell_type": "code",
   "execution_count": null,
   "id": "722b3a46",
   "metadata": {},
   "outputs": [],
   "source": [
    "silhouette_score(X, kmeans.labels_)"
   ]
  },
  {
   "cell_type": "code",
   "execution_count": null,
   "id": "e4ab37e3",
   "metadata": {},
   "outputs": [],
   "source": [
    "silhouette_score(X, dbscan_tun.labels_)"
   ]
  }
 ],
 "metadata": {
  "kernelspec": {
   "display_name": "Python 3 (ipykernel)",
   "language": "python",
   "name": "python3"
  },
  "language_info": {
   "codemirror_mode": {
    "name": "ipython",
    "version": 3
   },
   "file_extension": ".py",
   "mimetype": "text/x-python",
   "name": "python",
   "nbconvert_exporter": "python",
   "pygments_lexer": "ipython3",
   "version": "3.11.3"
  }
 },
 "nbformat": 4,
 "nbformat_minor": 5
}
