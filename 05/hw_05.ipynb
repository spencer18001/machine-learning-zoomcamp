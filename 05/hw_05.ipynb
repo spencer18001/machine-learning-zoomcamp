{
  "cells": [
    {
      "cell_type": "markdown",
      "metadata": {
        "id": "view-in-github",
        "colab_type": "text"
      },
      "source": [
        "<a href=\"https://colab.research.google.com/github/spencer18001/machine-learning-zoomcamp/blob/main/05/hw_05.ipynb\" target=\"_parent\"><img src=\"https://colab.research.google.com/assets/colab-badge.svg\" alt=\"Open In Colab\"/></a>"
      ]
    },
    {
      "cell_type": "code",
      "execution_count": 1,
      "id": "2JwRRlG8tNRI",
      "metadata": {
        "id": "2JwRRlG8tNRI"
      },
      "outputs": [],
      "source": [
        "%%capture\n",
        "!wget https://github.com/alexeygrigorev/datasets/raw/refs/heads/master/bank-full.csv"
      ]
    },
    {
      "cell_type": "code",
      "execution_count": 2,
      "id": "gdvchng7m8Fn",
      "metadata": {
        "id": "gdvchng7m8Fn"
      },
      "outputs": [],
      "source": [
        "%%capture\n",
        "!pip install pipenv"
      ]
    },
    {
      "cell_type": "code",
      "execution_count": 3,
      "id": "f1d0e029",
      "metadata": {
        "colab": {
          "base_uri": "https://localhost:8080/"
        },
        "id": "f1d0e029",
        "outputId": "8afd58fc-ae07-4fa1-c326-30111de74fd2"
      },
      "outputs": [
        {
          "output_type": "stream",
          "name": "stdout",
          "text": [
            "\u001b[1mpipenv\u001b[0m, version 2024.2.0\n"
          ]
        }
      ],
      "source": [
        "!pipenv --version #Q1"
      ]
    },
    {
      "cell_type": "code",
      "execution_count": 4,
      "id": "bd957ea1",
      "metadata": {
        "id": "bd957ea1"
      },
      "outputs": [],
      "source": [
        "%%capture\n",
        "!pipenv install scikit-learn==1.5.2"
      ]
    },
    {
      "cell_type": "code",
      "execution_count": 5,
      "id": "c5bM85cAMQcl",
      "metadata": {
        "colab": {
          "base_uri": "https://localhost:8080/"
        },
        "id": "c5bM85cAMQcl",
        "outputId": "b5c5522f-d4b2-4e0e-8026-b991b13361dc"
      },
      "outputs": [
        {
          "output_type": "stream",
          "name": "stdout",
          "text": [
            "        \"scikit-learn\": {\n",
            "            \"hashes\": [\n",
            "                \"sha256:03b6158efa3faaf1feea3faa884c840ebd61b6484167c711548fce208ea09445\",\n",
            "                \"sha256:178ddd0a5cb0044464fc1bfc4cca5b1833bfc7bb022d70b05db8530da4bb3dd3\",\n",
            "                \"sha256:1ff45e26928d3b4eb767a8f14a9a6efbf1cbff7c05d1fb0f95f211a89fd4f5de\",\n",
            "                \"sha256:299406827fb9a4f862626d0fe6c122f5f87f8910b86fe5daa4c32dcd742139b6\",\n"
          ]
        }
      ],
      "source": [
        "!grep -A 5 'scikit-learn' Pipfile.lock # Q2"
      ]
    },
    {
      "cell_type": "code",
      "execution_count": 6,
      "id": "XYck_daNM3yP",
      "metadata": {
        "id": "XYck_daNM3yP"
      },
      "outputs": [],
      "source": [
        "%%capture\n",
        "PREFIX=\"https://raw.githubusercontent.com/DataTalksClub/machine-learning-zoomcamp/master/cohorts/2024/05-deployment/homework\"\n",
        "!wget $PREFIX/model1.bin\n",
        "!wget $PREFIX/dv.bin"
      ]
    },
    {
      "cell_type": "code",
      "execution_count": 7,
      "id": "JcgRtVYSNumw",
      "metadata": {
        "id": "JcgRtVYSNumw"
      },
      "outputs": [],
      "source": [
        "import pickle\n",
        "\n",
        "with open('model1.bin', 'rb') as f_in:\n",
        "    model = pickle.load(f_in)\n",
        "\n",
        "with open('dv.bin', 'rb') as f_in:\n",
        "    dv = pickle.load(f_in)"
      ]
    },
    {
      "cell_type": "code",
      "execution_count": 8,
      "id": "cRy_nblDOTyX",
      "metadata": {
        "id": "cRy_nblDOTyX"
      },
      "outputs": [],
      "source": [
        "customer = {\"job\": \"management\", \"duration\": 400, \"poutcome\": \"success\"}"
      ]
    },
    {
      "cell_type": "code",
      "execution_count": 9,
      "id": "dEANUnK6ORhL",
      "metadata": {
        "colab": {
          "base_uri": "https://localhost:8080/"
        },
        "id": "dEANUnK6ORhL",
        "outputId": "7ff7bb51-d023-4e5e-8270-b06bb6f62f21"
      },
      "outputs": [
        {
          "output_type": "execute_result",
          "data": {
            "text/plain": [
              "0.7590966516879658"
            ]
          },
          "metadata": {},
          "execution_count": 9
        }
      ],
      "source": [
        "X = dv.transform([customer])\n",
        "model.predict_proba(X)[0, 1] # Q3"
      ]
    },
    {
      "cell_type": "code",
      "execution_count": 10,
      "id": "Gy4T3kIyQA1R",
      "metadata": {
        "id": "Gy4T3kIyQA1R"
      },
      "outputs": [],
      "source": [
        "%%capture\n",
        "!pipenv install Flask gunicorn"
      ]
    },
    {
      "cell_type": "code",
      "execution_count": 11,
      "id": "dmWFgqrJSVXu",
      "metadata": {
        "id": "dmWFgqrJSVXu"
      },
      "outputs": [],
      "source": [
        "%%capture\n",
        "!wget -O predict.py https://raw.githubusercontent.com/spencer18001/machine-learning-zoomcamp/main/05/hw/predict.py"
      ]
    },
    {
      "cell_type": "code",
      "execution_count": 13,
      "id": "grQK3pwZQBp5",
      "metadata": {
        "colab": {
          "base_uri": "https://localhost:8080/"
        },
        "id": "grQK3pwZQBp5",
        "outputId": "e4f52c51-8f74-42b2-eb3d-aaf0dadad756"
      },
      "outputs": [
        {
          "output_type": "execute_result",
          "data": {
            "text/plain": [
              "2223"
            ]
          },
          "metadata": {},
          "execution_count": 13
        }
      ],
      "source": [
        "import subprocess\n",
        "\n",
        "process = subprocess.Popen(['pipenv', 'run', 'gunicorn', '--bind', '0.0.0.0:9696', 'predict:app'])\n",
        "process.pid"
      ]
    },
    {
      "cell_type": "code",
      "execution_count": 14,
      "id": "e4UPow8ZSlIj",
      "metadata": {
        "colab": {
          "base_uri": "https://localhost:8080/"
        },
        "id": "e4UPow8ZSlIj",
        "outputId": "aa15642f-707b-4802-841c-29a274346fb1"
      },
      "outputs": [
        {
          "output_type": "execute_result",
          "data": {
            "text/plain": [
              "{'subscription': False, 'subscription_probability': 0.33480703475511053}"
            ]
          },
          "metadata": {},
          "execution_count": 14
        }
      ],
      "source": [
        "import requests\n",
        "\n",
        "url = \"http://0.0.0.0:9696/predict\"\n",
        "client = {\"job\": \"student\", \"duration\": 280, \"poutcome\": \"failure\"}\n",
        "requests.post(url, json=client).json() # Q4"
      ]
    },
    {
      "cell_type": "markdown",
      "id": "aRqJKz9Nmgzb",
      "metadata": {
        "id": "aRqJKz9Nmgzb"
      },
      "source": [
        "***This cell is running in the GitHub Codespace environment.***\n",
        "\n",
        "```shell\n",
        "docker pull svizor/zoomcamp-model:3.11.5-slim\n",
        "docker images svizor/zoomcamp-model:3.11.5-slim --format \"{{.Size}}\"\n",
        "```\n",
        "\n",
        "output:\n",
        "```shell\n",
        "130MB # Q5\n",
        "```"
      ]
    },
    {
      "cell_type": "markdown",
      "source": [
        "***This cell is running in the GitHub Codespace environment.***\n",
        "\n",
        "```shell\n",
        "docker build -t subscription-prediction .\n",
        "docker run -it -p 9696:9696 subscription-prediction:latest\n",
        "```"
      ],
      "metadata": {
        "id": "WnBrHG9V6EUR"
      },
      "id": "WnBrHG9V6EUR"
    },
    {
      "cell_type": "code",
      "source": [
        "url = \"https://cold-cadaver-7vrrxw5j5x763r5g4-9696.app.github.dev/predict\" # copied from GitHub Codespace's session\n",
        "client = {\"job\": \"management\", \"duration\": 400, \"poutcome\": \"success\"}\n",
        "requests.post(url, json=client).json() # Q6"
      ],
      "metadata": {
        "id": "7f7fS1Pl6I_L",
        "outputId": "7be4af3d-46c4-41c5-9edd-becd5f3f4a83",
        "colab": {
          "base_uri": "https://localhost:8080/"
        }
      },
      "id": "7f7fS1Pl6I_L",
      "execution_count": 20,
      "outputs": [
        {
          "output_type": "execute_result",
          "data": {
            "text/plain": [
              "{'subscription': True, 'subscription_probability': 0.7590966516879658}"
            ]
          },
          "metadata": {},
          "execution_count": 20
        }
      ]
    }
  ],
  "metadata": {
    "colab": {
      "provenance": [],
      "include_colab_link": true
    },
    "kernelspec": {
      "display_name": "Python 3.7.0 64-bit",
      "language": "python",
      "name": "python3"
    },
    "language_info": {
      "codemirror_mode": {
        "name": "ipython",
        "version": 3
      },
      "file_extension": ".py",
      "mimetype": "text/x-python",
      "name": "python",
      "nbconvert_exporter": "python",
      "pygments_lexer": "ipython3",
      "version": "3.7.0"
    },
    "vscode": {
      "interpreter": {
        "hash": "e774977668b7c0ae8309835a5187aa7fbf7669e7d0bb59755bc63e573643edcd"
      }
    }
  },
  "nbformat": 4,
  "nbformat_minor": 5
}