{
  "cells": [
    {
      "cell_type": "markdown",
      "metadata": {
        "id": "view-in-github",
        "colab_type": "text"
      },
      "source": [
        "<a href=\"https://colab.research.google.com/github/spencer18001/machine-learning-zoomcamp/blob/main/05/hw_05.ipynb\" target=\"_parent\"><img src=\"https://colab.research.google.com/assets/colab-badge.svg\" alt=\"Open In Colab\"/></a>"
      ]
    },
    {
      "cell_type": "code",
      "execution_count": 14,
      "id": "2JwRRlG8tNRI",
      "metadata": {
        "id": "2JwRRlG8tNRI"
      },
      "outputs": [],
      "source": [
        "%%capture\n",
        "!wget https://github.com/alexeygrigorev/datasets/raw/refs/heads/master/bank-full.csv"
      ]
    },
    {
      "cell_type": "code",
      "execution_count": 15,
      "id": "gdvchng7m8Fn",
      "metadata": {
        "id": "gdvchng7m8Fn"
      },
      "outputs": [],
      "source": [
        "%%capture\n",
        "!pip install pipenv"
      ]
    },
    {
      "cell_type": "code",
      "execution_count": 16,
      "id": "f1d0e029",
      "metadata": {
        "colab": {
          "base_uri": "https://localhost:8080/"
        },
        "id": "f1d0e029",
        "outputId": "14541f82-14cf-459f-f80c-14f63078be59"
      },
      "outputs": [
        {
          "output_type": "stream",
          "name": "stdout",
          "text": [
            "\u001b[1mpipenv\u001b[0m, version 2024.2.0\n"
          ]
        }
      ],
      "source": [
        "!pipenv --version #Q1"
      ]
    },
    {
      "cell_type": "code",
      "execution_count": 17,
      "id": "bd957ea1",
      "metadata": {
        "id": "bd957ea1"
      },
      "outputs": [],
      "source": [
        "%%capture\n",
        "!pipenv install scikit-learn==1.5.2"
      ]
    },
    {
      "cell_type": "code",
      "execution_count": 18,
      "id": "c5bM85cAMQcl",
      "metadata": {
        "colab": {
          "base_uri": "https://localhost:8080/"
        },
        "id": "c5bM85cAMQcl",
        "outputId": "d5674bc2-b2e6-4ad4-9215-3fc96a645edd"
      },
      "outputs": [
        {
          "output_type": "stream",
          "name": "stdout",
          "text": [
            "        \"scikit-learn\": {\n",
            "            \"hashes\": [\n",
            "                \"sha256:03b6158efa3faaf1feea3faa884c840ebd61b6484167c711548fce208ea09445\",\n",
            "                \"sha256:178ddd0a5cb0044464fc1bfc4cca5b1833bfc7bb022d70b05db8530da4bb3dd3\",\n",
            "                \"sha256:1ff45e26928d3b4eb767a8f14a9a6efbf1cbff7c05d1fb0f95f211a89fd4f5de\",\n",
            "                \"sha256:299406827fb9a4f862626d0fe6c122f5f87f8910b86fe5daa4c32dcd742139b6\",\n"
          ]
        }
      ],
      "source": [
        "!grep -A 5 'scikit-learn' Pipfile.lock # Q2"
      ]
    },
    {
      "cell_type": "code",
      "execution_count": 19,
      "id": "XYck_daNM3yP",
      "metadata": {
        "id": "XYck_daNM3yP"
      },
      "outputs": [],
      "source": [
        "%%capture\n",
        "PREFIX=\"https://raw.githubusercontent.com/DataTalksClub/machine-learning-zoomcamp/master/cohorts/2024/05-deployment/homework\"\n",
        "!wget $PREFIX/model1.bin\n",
        "!wget $PREFIX/dv.bin"
      ]
    },
    {
      "cell_type": "code",
      "execution_count": 20,
      "id": "JcgRtVYSNumw",
      "metadata": {
        "id": "JcgRtVYSNumw"
      },
      "outputs": [],
      "source": [
        "import pickle\n",
        "\n",
        "with open('model1.bin', 'rb') as f_in:\n",
        "    model = pickle.load(f_in)\n",
        "\n",
        "with open('dv.bin', 'rb') as f_in:\n",
        "    dv = pickle.load(f_in)"
      ]
    },
    {
      "cell_type": "code",
      "execution_count": 21,
      "id": "cRy_nblDOTyX",
      "metadata": {
        "id": "cRy_nblDOTyX"
      },
      "outputs": [],
      "source": [
        "customer = {\"job\": \"management\", \"duration\": 400, \"poutcome\": \"success\"}"
      ]
    },
    {
      "cell_type": "code",
      "execution_count": 22,
      "id": "dEANUnK6ORhL",
      "metadata": {
        "colab": {
          "base_uri": "https://localhost:8080/"
        },
        "id": "dEANUnK6ORhL",
        "outputId": "f7b5e0ad-8f69-4ee6-e49f-27c354e364b1"
      },
      "outputs": [
        {
          "output_type": "execute_result",
          "data": {
            "text/plain": [
              "0.7590966516879658"
            ]
          },
          "metadata": {},
          "execution_count": 22
        }
      ],
      "source": [
        "X = dv.transform([customer])\n",
        "model.predict_proba(X)[0, 1] # Q3"
      ]
    },
    {
      "cell_type": "code",
      "execution_count": 23,
      "id": "Gy4T3kIyQA1R",
      "metadata": {
        "id": "Gy4T3kIyQA1R"
      },
      "outputs": [],
      "source": [
        "%%capture\n",
        "!pip install Flask gunicorn"
      ]
    },
    {
      "cell_type": "code",
      "execution_count": 24,
      "id": "dmWFgqrJSVXu",
      "metadata": {
        "id": "dmWFgqrJSVXu"
      },
      "outputs": [],
      "source": [
        "%%capture\n",
        "!wget -O predict.py https://raw.githubusercontent.com/spencer18001/machine-learning-zoomcamp/main/05/hw/predict.py"
      ]
    },
    {
      "cell_type": "code",
      "execution_count": 25,
      "id": "grQK3pwZQBp5",
      "metadata": {
        "colab": {
          "base_uri": "https://localhost:8080/"
        },
        "id": "grQK3pwZQBp5",
        "outputId": "05d00eb2-dada-4a34-eb8a-0303b1cbadd7"
      },
      "outputs": [
        {
          "output_type": "execute_result",
          "data": {
            "text/plain": [
              "4556"
            ]
          },
          "metadata": {},
          "execution_count": 25
        }
      ],
      "source": [
        "import subprocess\n",
        "\n",
        "process = subprocess.Popen(['gunicorn', '--bind', '0.0.0.0:9696', 'predict:app'])\n",
        "process.pid"
      ]
    },
    {
      "cell_type": "code",
      "execution_count": 26,
      "id": "e4UPow8ZSlIj",
      "metadata": {
        "colab": {
          "base_uri": "https://localhost:8080/"
        },
        "id": "e4UPow8ZSlIj",
        "outputId": "9aaa29b1-4f38-4bd8-e51c-0178552976f5"
      },
      "outputs": [
        {
          "output_type": "execute_result",
          "data": {
            "text/plain": [
              "{'subscription': False, 'subscription_probability': 0.33480703475511053}"
            ]
          },
          "metadata": {},
          "execution_count": 26
        }
      ],
      "source": [
        "import requests\n",
        "\n",
        "url = \"http://0.0.0.0:9696/predict\"\n",
        "client = {\"job\": \"student\", \"duration\": 280, \"poutcome\": \"failure\"}\n",
        "requests.post(url, json=client).json() # Q4"
      ]
    },
    {
      "cell_type": "markdown",
      "id": "aRqJKz9Nmgzb",
      "metadata": {
        "id": "aRqJKz9Nmgzb"
      },
      "source": [
        "```shell\n",
        "docker pull svizor/zoomcamp-model:3.11.5-slim\n",
        "docker images svizor/zoomcamp-model:3.11.5-slim --format \"{{.Size}}\"\n",
        "```\n",
        "\n",
        "output:\n",
        "```shell\n",
        "130MB # Q5\n",
        "```"
      ]
    },
    {
      "cell_type": "code",
      "execution_count": null,
      "id": "-ZACeUSCU0LG",
      "metadata": {
        "id": "-ZACeUSCU0LG"
      },
      "outputs": [],
      "source": []
    }
  ],
  "metadata": {
    "colab": {
      "provenance": [],
      "include_colab_link": true
    },
    "kernelspec": {
      "display_name": "Python 3.7.0 64-bit",
      "language": "python",
      "name": "python3"
    },
    "language_info": {
      "codemirror_mode": {
        "name": "ipython",
        "version": 3
      },
      "file_extension": ".py",
      "mimetype": "text/x-python",
      "name": "python",
      "nbconvert_exporter": "python",
      "pygments_lexer": "ipython3",
      "version": "3.7.0"
    },
    "vscode": {
      "interpreter": {
        "hash": "e774977668b7c0ae8309835a5187aa7fbf7669e7d0bb59755bc63e573643edcd"
      }
    }
  },
  "nbformat": 4,
  "nbformat_minor": 5
}