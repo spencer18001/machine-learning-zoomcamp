{
  "cells": [
    {
      "cell_type": "markdown",
      "metadata": {
        "id": "view-in-github",
        "colab_type": "text"
      },
      "source": [
        "<a href=\"https://colab.research.google.com/github/spencer18001/machine-learning-zoomcamp/blob/main/05/hw_05.ipynb\" target=\"_parent\"><img src=\"https://colab.research.google.com/assets/colab-badge.svg\" alt=\"Open In Colab\"/></a>"
      ]
    },
    {
      "cell_type": "code",
      "execution_count": 1,
      "id": "2JwRRlG8tNRI",
      "metadata": {
        "id": "2JwRRlG8tNRI"
      },
      "outputs": [],
      "source": [
        "%%capture\n",
        "!wget https://github.com/alexeygrigorev/datasets/raw/refs/heads/master/bank-full.csv"
      ]
    },
    {
      "cell_type": "code",
      "source": [
        "%%capture\n",
        "!pip install pipenv"
      ],
      "metadata": {
        "id": "gdvchng7m8Fn"
      },
      "id": "gdvchng7m8Fn",
      "execution_count": 2,
      "outputs": []
    },
    {
      "cell_type": "code",
      "execution_count": 3,
      "id": "f1d0e029",
      "metadata": {
        "id": "f1d0e029",
        "outputId": "b99e4fe6-792b-4093-d34d-3fe875ef079d",
        "colab": {
          "base_uri": "https://localhost:8080/"
        }
      },
      "outputs": [
        {
          "output_type": "stream",
          "name": "stdout",
          "text": [
            "\u001b[1mpipenv\u001b[0m, version 2024.2.0\n"
          ]
        }
      ],
      "source": [
        "!pipenv --version #Q1"
      ]
    },
    {
      "cell_type": "code",
      "execution_count": 4,
      "id": "bd957ea1",
      "metadata": {
        "id": "bd957ea1"
      },
      "outputs": [],
      "source": [
        "%%capture\n",
        "!pipenv install scikit-learn==1.5.2"
      ]
    },
    {
      "cell_type": "code",
      "source": [
        "!grep -A 5 'scikit-learn' Pipfile.lock # Q2"
      ],
      "metadata": {
        "id": "c5bM85cAMQcl",
        "outputId": "1b0451b3-d793-4bd3-b212-e844ce2f9fc4",
        "colab": {
          "base_uri": "https://localhost:8080/"
        }
      },
      "id": "c5bM85cAMQcl",
      "execution_count": 5,
      "outputs": [
        {
          "output_type": "stream",
          "name": "stdout",
          "text": [
            "        \"scikit-learn\": {\n",
            "            \"hashes\": [\n",
            "                \"sha256:03b6158efa3faaf1feea3faa884c840ebd61b6484167c711548fce208ea09445\",\n",
            "                \"sha256:178ddd0a5cb0044464fc1bfc4cca5b1833bfc7bb022d70b05db8530da4bb3dd3\",\n",
            "                \"sha256:1ff45e26928d3b4eb767a8f14a9a6efbf1cbff7c05d1fb0f95f211a89fd4f5de\",\n",
            "                \"sha256:299406827fb9a4f862626d0fe6c122f5f87f8910b86fe5daa4c32dcd742139b6\",\n"
          ]
        }
      ]
    },
    {
      "cell_type": "code",
      "source": [
        "%%capture\n",
        "PREFIX=\"https://raw.githubusercontent.com/DataTalksClub/machine-learning-zoomcamp/master/cohorts/2024/05-deployment/homework\"\n",
        "!wget $PREFIX/model1.bin\n",
        "!wget $PREFIX/dv.bin"
      ],
      "metadata": {
        "id": "XYck_daNM3yP"
      },
      "id": "XYck_daNM3yP",
      "execution_count": 6,
      "outputs": []
    },
    {
      "cell_type": "code",
      "source": [
        "import pickle\n",
        "\n",
        "with open('model1.bin', 'rb') as f_in:\n",
        "    model = pickle.load(f_in)\n",
        "\n",
        "with open('dv.bin', 'rb') as f_in:\n",
        "    dv = pickle.load(f_in)"
      ],
      "metadata": {
        "id": "JcgRtVYSNumw"
      },
      "id": "JcgRtVYSNumw",
      "execution_count": 7,
      "outputs": []
    },
    {
      "cell_type": "code",
      "source": [
        "customer = {\"job\": \"management\", \"duration\": 400, \"poutcome\": \"success\"}"
      ],
      "metadata": {
        "id": "cRy_nblDOTyX"
      },
      "id": "cRy_nblDOTyX",
      "execution_count": 8,
      "outputs": []
    },
    {
      "cell_type": "code",
      "source": [
        "X = dv.transform([customer])\n",
        "model.predict_proba(X)[0, 1] # Q3"
      ],
      "metadata": {
        "id": "dEANUnK6ORhL",
        "outputId": "da499b37-a14b-46cd-d30e-70d8dfe58b4b",
        "colab": {
          "base_uri": "https://localhost:8080/"
        }
      },
      "id": "dEANUnK6ORhL",
      "execution_count": 9,
      "outputs": [
        {
          "output_type": "execute_result",
          "data": {
            "text/plain": [
              "0.7590966516879658"
            ]
          },
          "metadata": {},
          "execution_count": 9
        }
      ]
    },
    {
      "cell_type": "code",
      "source": [
        "%%capture\n",
        "!pip install Flask gunicorn"
      ],
      "metadata": {
        "id": "Gy4T3kIyQA1R"
      },
      "id": "Gy4T3kIyQA1R",
      "execution_count": 10,
      "outputs": []
    },
    {
      "cell_type": "code",
      "source": [
        "%%capture\n",
        "!wget -O hw_05_predict.py https://raw.githubusercontent.com/spencer18001/machine-learning-zoomcamp/main/05/hw_05_predict.py"
      ],
      "metadata": {
        "id": "dmWFgqrJSVXu"
      },
      "id": "dmWFgqrJSVXu",
      "execution_count": 11,
      "outputs": []
    },
    {
      "cell_type": "code",
      "source": [
        "import subprocess\n",
        "\n",
        "process = subprocess.Popen(['gunicorn', '--bind', '0.0.0.0:9696', 'hw_05_predict:app'])\n",
        "process.pid"
      ],
      "metadata": {
        "id": "grQK3pwZQBp5",
        "outputId": "bf856391-c417-44cb-cb50-fca4885d5573",
        "colab": {
          "base_uri": "https://localhost:8080/"
        }
      },
      "id": "grQK3pwZQBp5",
      "execution_count": 12,
      "outputs": [
        {
          "output_type": "execute_result",
          "data": {
            "text/plain": [
              "765"
            ]
          },
          "metadata": {},
          "execution_count": 12
        }
      ]
    },
    {
      "cell_type": "code",
      "source": [
        "import requests\n",
        "\n",
        "url = \"http://0.0.0.0:9696/predict\"\n",
        "client = {\"job\": \"student\", \"duration\": 280, \"poutcome\": \"failure\"}\n",
        "requests.post(url, json=client).json() # Q4"
      ],
      "metadata": {
        "id": "e4UPow8ZSlIj",
        "outputId": "44d2ea8d-89b1-438e-cca5-1998930e513c",
        "colab": {
          "base_uri": "https://localhost:8080/"
        }
      },
      "id": "e4UPow8ZSlIj",
      "execution_count": 13,
      "outputs": [
        {
          "output_type": "execute_result",
          "data": {
            "text/plain": [
              "{'subscription': False, 'subscription_probability': 0.33480703475511053}"
            ]
          },
          "metadata": {},
          "execution_count": 13
        }
      ]
    },
    {
      "cell_type": "markdown",
      "source": [
        "```shell\n",
        "docker pull svizor/zoomcamp-model:3.11.5-slim\n",
        "docker images svizor/zoomcamp-model:3.11.5-slim --format \"{{.Size}}\"\n",
        "```\n",
        "\n",
        "output:\n",
        "```shell\n",
        "130MB # Q5\n",
        "```"
      ],
      "metadata": {
        "id": "aRqJKz9Nmgzb"
      },
      "id": "aRqJKz9Nmgzb"
    },
    {
      "cell_type": "code",
      "source": [],
      "metadata": {
        "id": "-ZACeUSCU0LG"
      },
      "id": "-ZACeUSCU0LG",
      "execution_count": 13,
      "outputs": []
    }
  ],
  "metadata": {
    "colab": {
      "provenance": [],
      "include_colab_link": true
    },
    "kernelspec": {
      "display_name": "Python 3 (ipykernel)",
      "language": "python",
      "name": "python3"
    },
    "language_info": {
      "codemirror_mode": {
        "name": "ipython",
        "version": 3
      },
      "file_extension": ".py",
      "mimetype": "text/x-python",
      "name": "python",
      "nbconvert_exporter": "python",
      "pygments_lexer": "ipython3",
      "version": "3.11.3"
    }
  },
  "nbformat": 4,
  "nbformat_minor": 5
}