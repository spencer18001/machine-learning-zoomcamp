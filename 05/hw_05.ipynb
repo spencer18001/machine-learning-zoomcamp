{
  "cells": [
    {
      "cell_type": "markdown",
      "metadata": {
        "id": "view-in-github",
        "colab_type": "text"
      },
      "source": [
        "<a href=\"https://colab.research.google.com/github/spencer18001/machine-learning-zoomcamp/blob/main/05/hw_05.ipynb\" target=\"_parent\"><img src=\"https://colab.research.google.com/assets/colab-badge.svg\" alt=\"Open In Colab\"/></a>"
      ]
    },
    {
      "cell_type": "code",
      "execution_count": 7,
      "id": "2JwRRlG8tNRI",
      "metadata": {
        "id": "2JwRRlG8tNRI",
        "outputId": "2923d626-a503-4703-d15c-ebbeefa06a77",
        "colab": {
          "base_uri": "https://localhost:8080/"
        }
      },
      "outputs": [
        {
          "output_type": "stream",
          "name": "stdout",
          "text": [
            "--2024-10-25 10:22:16--  https://github.com/alexeygrigorev/datasets/raw/refs/heads/master/bank-full.csv\n",
            "Resolving github.com (github.com)... 140.82.112.3\n",
            "Connecting to github.com (github.com)|140.82.112.3|:443... connected.\n",
            "HTTP request sent, awaiting response... 302 Found\n",
            "Location: https://raw.githubusercontent.com/alexeygrigorev/datasets/refs/heads/master/bank-full.csv [following]\n",
            "--2024-10-25 10:22:16--  https://raw.githubusercontent.com/alexeygrigorev/datasets/refs/heads/master/bank-full.csv\n",
            "Resolving raw.githubusercontent.com (raw.githubusercontent.com)... 185.199.108.133, 185.199.111.133, 185.199.109.133, ...\n",
            "Connecting to raw.githubusercontent.com (raw.githubusercontent.com)|185.199.108.133|:443... connected.\n",
            "HTTP request sent, awaiting response... 200 OK\n",
            "Length: 4610348 (4.4M) [text/plain]\n",
            "Saving to: ‘bank-full.csv’\n",
            "\n",
            "bank-full.csv       100%[===================>]   4.40M  --.-KB/s    in 0.09s   \n",
            "\n",
            "2024-10-25 10:22:17 (47.4 MB/s) - ‘bank-full.csv’ saved [4610348/4610348]\n",
            "\n"
          ]
        }
      ],
      "source": [
        "%%capture\n",
        "!wget https://github.com/alexeygrigorev/datasets/raw/refs/heads/master/bank-full.csv"
      ]
    },
    {
      "cell_type": "code",
      "execution_count": 2,
      "id": "f1d0e029",
      "metadata": {
        "id": "f1d0e029",
        "outputId": "ac7d5c9e-cf2e-48d8-897e-39356e3a85fc",
        "colab": {
          "base_uri": "https://localhost:8080/"
        }
      },
      "outputs": [
        {
          "output_type": "stream",
          "name": "stdout",
          "text": [
            "\u001b[1mpipenv\u001b[0m, version 2024.2.0\n"
          ]
        }
      ],
      "source": [
        "!pipenv --version #Q1"
      ]
    },
    {
      "cell_type": "code",
      "execution_count": 5,
      "id": "bd957ea1",
      "metadata": {
        "id": "bd957ea1",
        "outputId": "8591b26b-1896-491e-f036-e9e77647d661",
        "colab": {
          "base_uri": "https://localhost:8080/"
        }
      },
      "outputs": [
        {
          "output_type": "stream",
          "name": "stdout",
          "text": [
            "To activate this project's virtualenv, run \u001b[33mpipenv shell\u001b[0m.\n",
            "Alternatively, run a command inside the virtualenv with \u001b[33mpipenv run\u001b[0m.\n",
            "\u001b[1;32mInstalling scikit-learn==1.5.2...\u001b[0m\n",
            "✔ Installation Succeeded\n",
            "\u001b[?25lBuilding requirements...\n",
            "\u001b[2KResolving dependencies...\n",
            "\u001b[2K✔ Success!\n",
            "\u001b[2K\u001b[32m⠙\u001b[0m Locking packages...\n",
            "\u001b[1A\u001b[2K\u001b[?25lBuilding requirements...\n",
            "\u001b[2KResolving dependencies...\n",
            "\u001b[2K✔ Success!\n",
            "\u001b[2K\u001b[32m⠙\u001b[0m Locking packages...\n",
            "\u001b[1A\u001b[2KTo activate this project's virtualenv, run \u001b[33mpipenv shell\u001b[0m.\n",
            "Alternatively, run a command inside the virtualenv with \u001b[33mpipenv run\u001b[0m.\n",
            "\u001b[1mInstalling dependencies from Pipfile.lock (0b43dd)...\u001b[0m\n",
            "\u001b[32mAll dependencies are now up-to-date!\u001b[0m\n",
            "\u001b[1mInstalling dependencies from Pipfile.lock (0b43dd)...\u001b[0m\n"
          ]
        }
      ],
      "source": [
        "%%capture\n",
        "!pipenv install scikit-learn==1.5.2"
      ]
    },
    {
      "cell_type": "code",
      "source": [
        "!grep -A 5 'scikit-learn' Pipfile.lock # Q2"
      ],
      "metadata": {
        "id": "c5bM85cAMQcl",
        "outputId": "3de4b7cc-39ab-4fba-f055-42a8e6723cb1",
        "colab": {
          "base_uri": "https://localhost:8080/"
        }
      },
      "id": "c5bM85cAMQcl",
      "execution_count": 6,
      "outputs": [
        {
          "output_type": "stream",
          "name": "stdout",
          "text": [
            "        \"scikit-learn\": {\n",
            "            \"hashes\": [\n",
            "                \"sha256:03b6158efa3faaf1feea3faa884c840ebd61b6484167c711548fce208ea09445\",\n",
            "                \"sha256:178ddd0a5cb0044464fc1bfc4cca5b1833bfc7bb022d70b05db8530da4bb3dd3\",\n",
            "                \"sha256:1ff45e26928d3b4eb767a8f14a9a6efbf1cbff7c05d1fb0f95f211a89fd4f5de\",\n",
            "                \"sha256:299406827fb9a4f862626d0fe6c122f5f87f8910b86fe5daa4c32dcd742139b6\",\n"
          ]
        }
      ]
    },
    {
      "cell_type": "code",
      "source": [
        "%%capture\n",
        "PREFIX=\"https://raw.githubusercontent.com/DataTalksClub/machine-learning-zoomcamp/master/cohorts/2024/05-deployment/homework\"\n",
        "!wget $PREFIX/model1.bin\n",
        "!wget $PREFIX/dv.bin"
      ],
      "metadata": {
        "id": "XYck_daNM3yP"
      },
      "id": "XYck_daNM3yP",
      "execution_count": 11,
      "outputs": []
    },
    {
      "cell_type": "code",
      "source": [
        "import pickle\n",
        "\n",
        "with open('model1.bin', 'rb') as f_in:\n",
        "    model = pickle.load(f_in)\n",
        "\n",
        "with open('dv.bin', 'rb') as f_in:\n",
        "    dv = pickle.load(f_in)"
      ],
      "metadata": {
        "id": "JcgRtVYSNumw"
      },
      "id": "JcgRtVYSNumw",
      "execution_count": 18,
      "outputs": []
    },
    {
      "cell_type": "code",
      "source": [
        "customer = {\"job\": \"management\", \"duration\": 400, \"poutcome\": \"success\"}"
      ],
      "metadata": {
        "id": "cRy_nblDOTyX"
      },
      "id": "cRy_nblDOTyX",
      "execution_count": 21,
      "outputs": []
    },
    {
      "cell_type": "code",
      "source": [
        "X = dv.transform([customer])\n",
        "model.predict_proba(X)[0, 1] # Q3"
      ],
      "metadata": {
        "id": "dEANUnK6ORhL",
        "outputId": "465810c0-e03c-4a1f-b86c-fa2ae29cd769",
        "colab": {
          "base_uri": "https://localhost:8080/"
        }
      },
      "id": "dEANUnK6ORhL",
      "execution_count": 23,
      "outputs": [
        {
          "output_type": "execute_result",
          "data": {
            "text/plain": [
              "0.7590966516879658"
            ]
          },
          "metadata": {},
          "execution_count": 23
        }
      ]
    },
    {
      "cell_type": "code",
      "source": [
        "%%capture\n",
        "!pip install Flask gunicorn"
      ],
      "metadata": {
        "id": "Gy4T3kIyQA1R",
        "outputId": "d6caf885-e076-4a90-eb24-2932b466a744",
        "colab": {
          "base_uri": "https://localhost:8080/"
        }
      },
      "id": "Gy4T3kIyQA1R",
      "execution_count": 24,
      "outputs": [
        {
          "output_type": "stream",
          "name": "stdout",
          "text": [
            "Requirement already satisfied: Flask in /usr/local/lib/python3.10/dist-packages (2.2.5)\n",
            "Collecting gunicorn\n",
            "  Downloading gunicorn-23.0.0-py3-none-any.whl.metadata (4.4 kB)\n",
            "Requirement already satisfied: Werkzeug>=2.2.2 in /usr/local/lib/python3.10/dist-packages (from Flask) (3.0.4)\n",
            "Requirement already satisfied: Jinja2>=3.0 in /usr/local/lib/python3.10/dist-packages (from Flask) (3.1.4)\n",
            "Requirement already satisfied: itsdangerous>=2.0 in /usr/local/lib/python3.10/dist-packages (from Flask) (2.2.0)\n",
            "Requirement already satisfied: click>=8.0 in /usr/local/lib/python3.10/dist-packages (from Flask) (8.1.7)\n",
            "Requirement already satisfied: packaging in /usr/local/lib/python3.10/dist-packages (from gunicorn) (24.1)\n",
            "Requirement already satisfied: MarkupSafe>=2.0 in /usr/local/lib/python3.10/dist-packages (from Jinja2>=3.0->Flask) (3.0.2)\n",
            "Downloading gunicorn-23.0.0-py3-none-any.whl (85 kB)\n",
            "\u001b[2K   \u001b[90m━━━━━━━━━━━━━━━━━━━━━━━━━━━━━━━━━━━━━━━━\u001b[0m \u001b[32m85.0/85.0 kB\u001b[0m \u001b[31m2.6 MB/s\u001b[0m eta \u001b[36m0:00:00\u001b[0m\n",
            "\u001b[?25hInstalling collected packages: gunicorn\n",
            "Successfully installed gunicorn-23.0.0\n"
          ]
        }
      ]
    },
    {
      "cell_type": "code",
      "source": [
        "%%capture\n",
        "!wget -O hw_05_predict.py https://raw.githubusercontent.com/spencer18001/machine-learning-zoomcamp/main/05/hw_05_predict.py"
      ],
      "metadata": {
        "id": "dmWFgqrJSVXu"
      },
      "id": "dmWFgqrJSVXu",
      "execution_count": 29,
      "outputs": []
    },
    {
      "cell_type": "code",
      "source": [
        "import subprocess\n",
        "\n",
        "process = subprocess.Popen(['gunicorn', '--bind', '0.0.0.0:9696', 'hw_05_predict:app'])\n",
        "process.pid"
      ],
      "metadata": {
        "id": "grQK3pwZQBp5",
        "outputId": "0c17a58c-aa7b-4fde-d0aa-5481cad07ef2",
        "colab": {
          "base_uri": "https://localhost:8080/"
        }
      },
      "id": "grQK3pwZQBp5",
      "execution_count": 31,
      "outputs": [
        {
          "output_type": "execute_result",
          "data": {
            "text/plain": [
              "12329"
            ]
          },
          "metadata": {},
          "execution_count": 31
        }
      ]
    },
    {
      "cell_type": "code",
      "source": [
        "import requests\n",
        "\n",
        "url = \"http://0.0.0.0:9696/predict\"\n",
        "client = {\"job\": \"student\", \"duration\": 280, \"poutcome\": \"failure\"}\n",
        "requests.post(url, json=client).json() # Q4"
      ],
      "metadata": {
        "id": "e4UPow8ZSlIj",
        "outputId": "c0c56f8a-6558-4349-b1d6-3a1ea55340e4",
        "colab": {
          "base_uri": "https://localhost:8080/"
        }
      },
      "id": "e4UPow8ZSlIj",
      "execution_count": 32,
      "outputs": [
        {
          "output_type": "execute_result",
          "data": {
            "text/plain": [
              "{'subscription': False, 'subscription_probability': 0.33480703475511053}"
            ]
          },
          "metadata": {},
          "execution_count": 32
        }
      ]
    },
    {
      "cell_type": "code",
      "source": [],
      "metadata": {
        "id": "-ZACeUSCU0LG"
      },
      "id": "-ZACeUSCU0LG",
      "execution_count": null,
      "outputs": []
    }
  ],
  "metadata": {
    "colab": {
      "provenance": [],
      "include_colab_link": true
    },
    "kernelspec": {
      "display_name": "Python 3 (ipykernel)",
      "language": "python",
      "name": "python3"
    },
    "language_info": {
      "codemirror_mode": {
        "name": "ipython",
        "version": 3
      },
      "file_extension": ".py",
      "mimetype": "text/x-python",
      "name": "python",
      "nbconvert_exporter": "python",
      "pygments_lexer": "ipython3",
      "version": "3.11.3"
    }
  },
  "nbformat": 4,
  "nbformat_minor": 5
}