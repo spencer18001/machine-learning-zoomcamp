{
  "cells": [
    {
      "cell_type": "markdown",
      "metadata": {
        "colab_type": "text",
        "id": "view-in-github"
      },
      "source": [
        "<a href=\"https://colab.research.google.com/github/spencer18001/machine-learning-zoomcamp/blob/main/05/hw_05.ipynb\" target=\"_parent\"><img src=\"https://colab.research.google.com/assets/colab-badge.svg\" alt=\"Open In Colab\"/></a>"
      ]
    },
    {
      "cell_type": "code",
      "execution_count": 1,
      "id": "2JwRRlG8tNRI",
      "metadata": {
        "id": "2JwRRlG8tNRI"
      },
      "outputs": [],
      "source": [
        "%%capture\n",
        "!wget https://github.com/alexeygrigorev/datasets/raw/refs/heads/master/bank-full.csv"
      ]
    },
    {
      "cell_type": "code",
      "execution_count": 2,
      "id": "gdvchng7m8Fn",
      "metadata": {
        "id": "gdvchng7m8Fn"
      },
      "outputs": [],
      "source": [
        "%%capture\n",
        "!pip install pipenv"
      ]
    },
    {
      "cell_type": "code",
      "execution_count": 3,
      "id": "f1d0e029",
      "metadata": {
        "colab": {
          "base_uri": "https://localhost:8080/"
        },
        "id": "f1d0e029",
        "outputId": "b99e4fe6-792b-4093-d34d-3fe875ef079d"
      },
      "outputs": [
        {
          "name": "stdout",
          "output_type": "stream",
          "text": [
            "\u001b[1mpipenv\u001b[0m, version 2024.2.0\n"
          ]
        }
      ],
      "source": [
        "!pipenv --version #Q1"
      ]
    },
    {
      "cell_type": "code",
      "execution_count": 4,
      "id": "bd957ea1",
      "metadata": {
        "id": "bd957ea1"
      },
      "outputs": [],
      "source": [
        "%%capture\n",
        "!pipenv install scikit-learn==1.5.2"
      ]
    },
    {
      "cell_type": "code",
      "execution_count": 5,
      "id": "c5bM85cAMQcl",
      "metadata": {
        "colab": {
          "base_uri": "https://localhost:8080/"
        },
        "id": "c5bM85cAMQcl",
        "outputId": "1b0451b3-d793-4bd3-b212-e844ce2f9fc4"
      },
      "outputs": [
        {
          "name": "stdout",
          "output_type": "stream",
          "text": [
            "        \"scikit-learn\": {\n",
            "            \"hashes\": [\n",
            "                \"sha256:03b6158efa3faaf1feea3faa884c840ebd61b6484167c711548fce208ea09445\",\n",
            "                \"sha256:178ddd0a5cb0044464fc1bfc4cca5b1833bfc7bb022d70b05db8530da4bb3dd3\",\n",
            "                \"sha256:1ff45e26928d3b4eb767a8f14a9a6efbf1cbff7c05d1fb0f95f211a89fd4f5de\",\n",
            "                \"sha256:299406827fb9a4f862626d0fe6c122f5f87f8910b86fe5daa4c32dcd742139b6\",\n"
          ]
        }
      ],
      "source": [
        "!grep -A 5 'scikit-learn' Pipfile.lock # Q2"
      ]
    },
    {
      "cell_type": "code",
      "execution_count": 6,
      "id": "XYck_daNM3yP",
      "metadata": {
        "id": "XYck_daNM3yP"
      },
      "outputs": [],
      "source": [
        "%%capture\n",
        "PREFIX=\"https://raw.githubusercontent.com/DataTalksClub/machine-learning-zoomcamp/master/cohorts/2024/05-deployment/homework\"\n",
        "!wget $PREFIX/model1.bin\n",
        "!wget $PREFIX/dv.bin"
      ]
    },
    {
      "cell_type": "code",
      "execution_count": 7,
      "id": "JcgRtVYSNumw",
      "metadata": {
        "id": "JcgRtVYSNumw"
      },
      "outputs": [],
      "source": [
        "import pickle\n",
        "\n",
        "with open('model1.bin', 'rb') as f_in:\n",
        "    model = pickle.load(f_in)\n",
        "\n",
        "with open('dv.bin', 'rb') as f_in:\n",
        "    dv = pickle.load(f_in)"
      ]
    },
    {
      "cell_type": "code",
      "execution_count": 8,
      "id": "cRy_nblDOTyX",
      "metadata": {
        "id": "cRy_nblDOTyX"
      },
      "outputs": [],
      "source": [
        "customer = {\"job\": \"management\", \"duration\": 400, \"poutcome\": \"success\"}"
      ]
    },
    {
      "cell_type": "code",
      "execution_count": 9,
      "id": "dEANUnK6ORhL",
      "metadata": {
        "colab": {
          "base_uri": "https://localhost:8080/"
        },
        "id": "dEANUnK6ORhL",
        "outputId": "da499b37-a14b-46cd-d30e-70d8dfe58b4b"
      },
      "outputs": [
        {
          "data": {
            "text/plain": [
              "0.7590966516879658"
            ]
          },
          "execution_count": 9,
          "metadata": {},
          "output_type": "execute_result"
        }
      ],
      "source": [
        "X = dv.transform([customer])\n",
        "model.predict_proba(X)[0, 1] # Q3"
      ]
    },
    {
      "cell_type": "code",
      "execution_count": 10,
      "id": "Gy4T3kIyQA1R",
      "metadata": {
        "id": "Gy4T3kIyQA1R"
      },
      "outputs": [],
      "source": [
        "%%capture\n",
        "!pip install Flask gunicorn"
      ]
    },
    {
      "cell_type": "code",
      "execution_count": 11,
      "id": "dmWFgqrJSVXu",
      "metadata": {
        "id": "dmWFgqrJSVXu"
      },
      "outputs": [],
      "source": [
        "%%capture\n",
        "!wget -O predict.py https://raw.githubusercontent.com/spencer18001/machine-learning-zoomcamp/main/05/predict.py"
      ]
    },
    {
      "cell_type": "code",
      "execution_count": 12,
      "id": "grQK3pwZQBp5",
      "metadata": {
        "colab": {
          "base_uri": "https://localhost:8080/"
        },
        "id": "grQK3pwZQBp5",
        "outputId": "bf856391-c417-44cb-cb50-fca4885d5573"
      },
      "outputs": [
        {
          "data": {
            "text/plain": [
              "765"
            ]
          },
          "execution_count": 12,
          "metadata": {},
          "output_type": "execute_result"
        }
      ],
      "source": [
        "import subprocess\n",
        "\n",
        "process = subprocess.Popen(['gunicorn', '--bind', '0.0.0.0:9696', 'predict:app'])\n",
        "process.pid"
      ]
    },
    {
      "cell_type": "code",
      "execution_count": 13,
      "id": "e4UPow8ZSlIj",
      "metadata": {
        "colab": {
          "base_uri": "https://localhost:8080/"
        },
        "id": "e4UPow8ZSlIj",
        "outputId": "44d2ea8d-89b1-438e-cca5-1998930e513c"
      },
      "outputs": [
        {
          "data": {
            "text/plain": [
              "{'subscription': False, 'subscription_probability': 0.33480703475511053}"
            ]
          },
          "execution_count": 13,
          "metadata": {},
          "output_type": "execute_result"
        }
      ],
      "source": [
        "import requests\n",
        "\n",
        "url = \"http://0.0.0.0:9696/predict\"\n",
        "client = {\"job\": \"student\", \"duration\": 280, \"poutcome\": \"failure\"}\n",
        "requests.post(url, json=client).json() # Q4"
      ]
    },
    {
      "cell_type": "markdown",
      "id": "aRqJKz9Nmgzb",
      "metadata": {
        "id": "aRqJKz9Nmgzb"
      },
      "source": [
        "```shell\n",
        "docker pull svizor/zoomcamp-model:3.11.5-slim\n",
        "docker images svizor/zoomcamp-model:3.11.5-slim --format \"{{.Size}}\"\n",
        "```\n",
        "\n",
        "output:\n",
        "```shell\n",
        "130MB # Q5\n",
        "```"
      ]
    },
    {
      "cell_type": "code",
      "execution_count": 13,
      "id": "-ZACeUSCU0LG",
      "metadata": {
        "id": "-ZACeUSCU0LG"
      },
      "outputs": [],
      "source": []
    }
  ],
  "metadata": {
    "colab": {
      "include_colab_link": true,
      "provenance": []
    },
    "kernelspec": {
      "display_name": "Python 3.7.0 64-bit",
      "language": "python",
      "name": "python3"
    },
    "language_info": {
      "codemirror_mode": {
        "name": "ipython",
        "version": 3
      },
      "file_extension": ".py",
      "mimetype": "text/x-python",
      "name": "python",
      "nbconvert_exporter": "python",
      "pygments_lexer": "ipython3",
      "version": "3.7.0"
    },
    "vscode": {
      "interpreter": {
        "hash": "e774977668b7c0ae8309835a5187aa7fbf7669e7d0bb59755bc63e573643edcd"
      }
    }
  },
  "nbformat": 4,
  "nbformat_minor": 5
}
